{
  "nbformat": 4,
  "nbformat_minor": 0,
  "metadata": {
    "colab": {
      "provenance": [],
      "authorship_tag": "ABX9TyMqXe2O+ii58gchMQ/yE+Wd",
      "include_colab_link": true
    },
    "kernelspec": {
      "name": "python3",
      "display_name": "Python 3"
    },
    "language_info": {
      "name": "python"
    }
  },
  "cells": [
    {
      "cell_type": "markdown",
      "metadata": {
        "id": "view-in-github",
        "colab_type": "text"
      },
      "source": [
        "<a href=\"https://colab.research.google.com/github/EdriellySamella/Edrielly-01/blob/main/Untitled8.ipynb\" target=\"_parent\"><img src=\"https://colab.research.google.com/assets/colab-badge.svg\" alt=\"Open In Colab\"/></a>"
      ]
    },
    {
      "cell_type": "markdown",
      "source": [],
      "metadata": {
        "id": "HJdxb6S0K_Oy"
      }
    },
    {
      "cell_type": "code",
      "execution_count": null,
      "metadata": {
        "colab": {
          "base_uri": "https://localhost:8080/"
        },
        "id": "CtiOxZBwFVYS",
        "outputId": "a0ee048b-a6eb-4983-ae5a-54136829c9f1"
      },
      "outputs": [
        {
          "output_type": "stream",
          "name": "stdout",
          "text": [
            "Olá, Bem-vindo!\n",
            "Digite o seu nome:  maria\n",
            "Digite a sua idade: 53\n",
            "Você é maior de idade.\n",
            "Em que ano você nasceu? 2000\n",
            "Errado\n"
          ]
        }
      ],
      "source": [
        "print('Olá, Bem-vindo!')\n",
        "nome = input(\"Digite o seu nome:  \")\n",
        "idade = int(input(\"Digite a sua idade: \"))\n",
        "if idade >= 18:\n",
        "  print(\"Você é maior de idade.\")\n",
        "ano = input(\"Em que ano você nasceu? \")\n",
        "ano = int(ano)\n",
        "if ano >= 2000:\n",
        "    print(\"Errado\")\n",
        "else:\n",
        "    print(\"Certo\")"
      ]
    }
  ]
}