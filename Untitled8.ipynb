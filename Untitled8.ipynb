{
  "nbformat": 4,
  "nbformat_minor": 0,
  "metadata": {
    "colab": {
      "provenance": [],
      "authorship_tag": "ABX9TyMuMR6A+ba94HlXH20SbJgc",
      "include_colab_link": true
    },
    "kernelspec": {
      "name": "python3",
      "display_name": "Python 3"
    },
    "language_info": {
      "name": "python"
    }
  },
  "cells": [
    {
      "cell_type": "markdown",
      "metadata": {
        "id": "view-in-github",
        "colab_type": "text"
      },
      "source": [
        "<a href=\"https://colab.research.google.com/github/EdriellySamella/Edrielly-01/blob/main/Untitled8.ipynb\" target=\"_parent\"><img src=\"https://colab.research.google.com/assets/colab-badge.svg\" alt=\"Open In Colab\"/></a>"
      ]
    },
    {
      "cell_type": "code",
      "execution_count": 37,
      "metadata": {
        "colab": {
          "base_uri": "https://localhost:8080/",
          "height": 106
        },
        "id": "FcQjQVa_OI7h",
        "outputId": "391ceb20-72b0-4049-f64f-17697a8cebdf"
      },
      "outputs": [
        {
          "output_type": "error",
          "ename": "SyntaxError",
          "evalue": "unmatched '}' (<ipython-input-37-892b8a24c385>, line 24)",
          "traceback": [
            "\u001b[0;36m  File \u001b[0;32m\"<ipython-input-37-892b8a24c385>\"\u001b[0;36m, line \u001b[0;32m24\u001b[0m\n\u001b[0;31m    }\u001b[0m\n\u001b[0m    ^\u001b[0m\n\u001b[0;31mSyntaxError\u001b[0m\u001b[0;31m:\u001b[0m unmatched '}'\n"
          ]
        }
      ],
      "source": [
        "print(\"Disciplina: Algoritmos e Estrutura de Dados\")\n",
        "print(\"Docente: Moises Cirilo de Brito Souto \")\n",
        "print(\"Discentes: Edrielly Samella, Leticia Lorena, Nicole Souza \" )\n",
        "print(\"Tema: Modelagem de Distribuição de Água\")\n",
        "\n",
        "\n",
        "num = input(\"Para iniciarmos selecione a zona desejada abaixo\")\n",
        "match num:\n",
        "  case 1:\n",
        "      print(\"Zona Norte\")\n",
        "  case 2:\n",
        "      print(\"Zona Sul\")\n",
        "  case 3:\n",
        "      print(\"Zona Leste\")\n",
        "  case 4:\n",
        "        print(\"Zona Oeste\")\n",
        "dados = {\"pressao minima\": 10, \"pressao maxima\": 50}\n",
        "\n",
        "if \"pressão minima\" <=10\n",
        "print(\"Pressão Baixa\")\n",
        "elif \"pressão maxima\" >=50\n",
        "print(\"Pressão Alta\")\n",
        "else (\"pressão maxima/minima\")\n",
        "}\n",
        "\n"
      ]
    }
  ]
}