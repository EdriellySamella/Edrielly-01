{
  "nbformat": 4,
  "nbformat_minor": 0,
  "metadata": {
    "colab": {
      "provenance": [],
      "authorship_tag": "ABX9TyNctswa0BfcsORf353VSL3k",
      "include_colab_link": true
    },
    "kernelspec": {
      "name": "python3",
      "display_name": "Python 3"
    },
    "language_info": {
      "name": "python"
    }
  },
  "cells": [
    {
      "cell_type": "markdown",
      "metadata": {
        "id": "view-in-github",
        "colab_type": "text"
      },
      "source": [
        "<a href=\"https://colab.research.google.com/github/EdriellySamella/Edrielly-01/blob/main/Atividade_05_contagem.ipynb\" target=\"_parent\"><img src=\"https://colab.research.google.com/assets/colab-badge.svg\" alt=\"Open In Colab\"/></a>"
      ]
    },
    {
      "cell_type": "code",
      "execution_count": 15,
      "metadata": {
        "id": "YZ9XUBDJmQql",
        "colab": {
          "base_uri": "https://localhost:8080/"
        },
        "outputId": "d87d811e-c6a5-4fe5-9a07-d2727ecf5a40"
      },
      "outputs": [
        {
          "output_type": "stream",
          "name": "stdout",
          "text": [
            "A quantidade de letras na palavra 'algoritmo' é 9.\n"
          ]
        }
      ],
      "source": [
        "# Palavra a ser contada\n",
        "palavra = \"algoritmo\"\n",
        "\n",
        "# Contar a quantidade de letras\n",
        "quantidade_letras = len(palavra)\n",
        "\n",
        "print(f\"A quantidade de letras na palavra '{palavra}' é {quantidade_letras}.\")"
      ]
    }
  ]
}