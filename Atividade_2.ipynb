{
  "nbformat": 4,
  "nbformat_minor": 0,
  "metadata": {
    "colab": {
      "provenance": [],
      "authorship_tag": "ABX9TyMfGIIHY9s35TTFjna5kXZF",
      "include_colab_link": true
    },
    "kernelspec": {
      "name": "python3",
      "display_name": "Python 3"
    },
    "language_info": {
      "name": "python"
    }
  },
  "cells": [
    {
      "cell_type": "markdown",
      "metadata": {
        "id": "view-in-github",
        "colab_type": "text"
      },
      "source": [
        "<a href=\"https://colab.research.google.com/github/EdriellySamella/Edrielly-01/blob/main/Atividade_2.ipynb\" target=\"_parent\"><img src=\"https://colab.research.google.com/assets/colab-badge.svg\" alt=\"Open In Colab\"/></a>"
      ]
    },
    {
      "cell_type": "code",
      "execution_count": null,
      "metadata": {
        "colab": {
          "base_uri": "https://localhost:8080/"
        },
        "id": "_ARVPZrfoY3x",
        "outputId": "6fdde22b-dd1f-4e62-b85a-cc03f9ac2741"
      },
      "outputs": [
        {
          "output_type": "stream",
          "name": "stdout",
          "text": [
            "Digite o número de notas: 2\n",
            "Digite a nota 1: 8\n",
            "Digite o peso para a nota 1: 3\n",
            "Digite a nota 2: 4\n",
            "Digite o peso para a nota 2: 3\n",
            "A média ponderada das notas é: 6.0\n"
          ]
        }
      ],
      "source": [
        "\n",
        "def calcular_media_ponderada(notas, pesos):\n",
        "    if len(notas) != len(pesos):\n",
        "        return \"O número de notas e pesos deve ser o mesmo.\"\n",
        "\n",
        "    soma_notas = sum([nota * peso for nota, peso in zip(notas, pesos)])\n",
        "    soma_pesos = sum(pesos)\n",
        "\n",
        "    return soma_notas / soma_pesos\n",
        "\n",
        "num_notas = int(input(\"Digite o número de notas: \"))\n",
        "notas = []\n",
        "pesos = []\n",
        "\n",
        "for i in range(num_notas):\n",
        "    nota = float(input(f\"Digite a nota {i + 1}: \"))\n",
        "    peso = float(input(f\"Digite o peso para a nota {i + 1}: \"))\n",
        "\n",
        "    notas.append(nota)\n",
        "    pesos.append(peso)\n",
        "\n",
        "media_ponderada = calcular_media_ponderada(notas, pesos)\n",
        "\n",
        "if isinstance(media_ponderada, str):\n",
        "    print(media_ponderada)\n",
        "else:\n",
        "    print(f\"A média ponderada das notas é: {media_ponderada}\")\n",
        "\n",
        "\n",
        "def validar_nota(nota):\n",
        "    if nota >= 0 and nota <= 10:\n",
        "        return True\n",
        "    else:\n",
        "        return False\n",
        "\n",
        "nota_usuario = float(input(\"Digite a nota: \"))\n",
        "\n",
        "if validar_nota(nota_usuario):\n",
        "    print(\"Nota válida! A nota inserida está dentro do intervalo de 0 a 10.\")\n",
        "else:\n",
        "    print(\"Nota inválida! Por favor, insira uma nota entre 0 e 10.\")\n"
      ]
    }
  ]
}