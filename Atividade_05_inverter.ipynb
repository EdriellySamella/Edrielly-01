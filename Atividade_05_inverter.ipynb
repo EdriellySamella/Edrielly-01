{
  "nbformat": 4,
  "nbformat_minor": 0,
  "metadata": {
    "colab": {
      "provenance": [],
      "authorship_tag": "ABX9TyNqxBTz8MLZyO7+ayU68GV2",
      "include_colab_link": true
    },
    "kernelspec": {
      "name": "python3",
      "display_name": "Python 3"
    },
    "language_info": {
      "name": "python"
    }
  },
  "cells": [
    {
      "cell_type": "markdown",
      "metadata": {
        "id": "view-in-github",
        "colab_type": "text"
      },
      "source": [
        "<a href=\"https://colab.research.google.com/github/EdriellySamella/Edrielly-01/blob/main/Atividade_05_inverter.ipynb\" target=\"_parent\"><img src=\"https://colab.research.google.com/assets/colab-badge.svg\" alt=\"Open In Colab\"/></a>"
      ]
    },
    {
      "cell_type": "code",
      "execution_count": null,
      "metadata": {
        "id": "Nw-30P0amU4S",
        "colab": {
          "base_uri": "https://localhost:8080/"
        },
        "outputId": "d24460fb-4590-4131-926e-55f31073089d"
      },
      "outputs": [
        {
          "output_type": "stream",
          "name": "stdout",
          "text": [
            "álO\n",
            "odnuM\n"
          ]
        }
      ],
      "source": [
        "def inverter_string(s):\n",
        "    \"\"\"\n",
        "    Retorna a string `s` invertida.\n",
        "\n",
        "    Args:\n",
        "    s (str): A string a ser invertida.\n",
        "\n",
        "    Returns:\n",
        "    str: A string invertida.\n",
        "    \"\"\"\n",
        "    # Inverte a string usando slicing\n",
        "    return s[::-1]\n",
        "\n",
        "# Exemplos de uso\n",
        "print(inverter_string(\"Olá\"))  # Deve retornar \"olleh\"\n",
        "print(inverter_string(\"Mundo\")) # Deve retornar \"nohtyP\""
      ]
    }
  ]
}