{
  "nbformat": 4,
  "nbformat_minor": 0,
  "metadata": {
    "colab": {
      "provenance": [],
      "authorship_tag": "ABX9TyMdXWIzOK9SErH2V9BO4rXb",
      "include_colab_link": true
    },
    "kernelspec": {
      "name": "python3",
      "display_name": "Python 3"
    },
    "language_info": {
      "name": "python"
    }
  },
  "cells": [
    {
      "cell_type": "markdown",
      "metadata": {
        "id": "view-in-github",
        "colab_type": "text"
      },
      "source": [
        "<a href=\"https://colab.research.google.com/github/EdriellySamella/Edrielly-01/blob/main/Untitled10.ipynb\" target=\"_parent\"><img src=\"https://colab.research.google.com/assets/colab-badge.svg\" alt=\"Open In Colab\"/></a>"
      ]
    },
    {
      "cell_type": "code",
      "execution_count": 4,
      "metadata": {
        "colab": {
          "base_uri": "https://localhost:8080/"
        },
        "id": "lGd7FKTaUmce",
        "outputId": "4f681216-3db6-4b9a-9e81-71db123696a4"
      },
      "outputs": [
        {
          "output_type": "stream",
          "name": "stdout",
          "text": [
            "Digite um número inteiro:3\n",
            "3\n",
            "1.Técnico em Informática\n",
            "2.Técnico em Informática EJA\n",
            "3.Técnico em Cooperativismo\n",
            "4.Técnico em Cooperativismo EJA\n",
            "5.Licenciatura em Física\n",
            "Digite o código de curso desejado:2\n",
            "Técnico em Informática EJA\n",
            "Digite uma palavra:hoje\n",
            "Digite outra palavra:tres\n",
            "string1:hoje\n",
            "string2:tres\n",
            "Tamannho de \"hoje\": 4 caracteres\n",
            "Tamannho de \"tres\": 4 caracteres\n",
            "tem o mesmo comprimento\n",
            "Digite uma palavra:nada\n",
            "\n"
          ]
        }
      ],
      "source": [
        "#leitura de num int\n",
        "var_1 = int(input('Digite um número inteiro:'))\n",
        "if var_1 < 0:\n",
        "    var_1+=100\n",
        "    print(var_1)\n",
        "else:\n",
        "    print(var_1)\n",
        "\n",
        "#codigo curso\n",
        "    var_curso = input('1.Técnico em Informática\\n2.Técnico em Informática EJA\\n3.Técnico em Cooperativismo\\n4.Técnico em Cooperativismo EJA\\n5.Licenciatura em Física\\nDigite o código de curso desejado:')\n",
        "\n",
        "if int(var_curso) == 1:\n",
        "    print('Técnico em Informática')\n",
        "elif int(var_curso) == 2:\n",
        "    print('Técnico em Informática EJA')\n",
        "elif int(var_curso) == 3:\n",
        "    print('Técnico em Cooperativismo')\n",
        "elif int(var_curso) == 4:\n",
        "    print('Técnico em Cooperativismo EJA')\n",
        "elif int(var_curso) == 5:\n",
        "    print('Licenciatura em Física')\n",
        "else:\n",
        "    print('Digite um código de curso válido!')\n",
        "\n",
        "#duas strings\n",
        "var_1 = input('Digite uma palavra:')\n",
        "var_2 = input('Digite outra palavra:')\n",
        "res1 = len(var_2)==len(var_1)\n",
        "res2 = var_1 == var_2\n",
        "print(f'string1:{var_1}')\n",
        "print(f'string2:{var_2}')\n",
        "\n",
        "print(f'Tamannho de \"{var_1}\": {len(var_1)} caracteres')\n",
        "\n",
        "print(f'Tamannho de \"{var_2}\": {len(var_2)} caracteres')\n",
        "\n",
        "if res1:\n",
        "    print('tem o mesmo comprimento')\n",
        "if res2:\n",
        "    print('mesmo conteúdo')\n",
        "# res1 =\n",
        "\n",
        "\n",
        "var_1 = input('Digite uma palavra:')\n",
        "print(var_1[2:-2:])"
      ]
    }
  ]
}