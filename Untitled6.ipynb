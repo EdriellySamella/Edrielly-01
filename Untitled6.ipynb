{
  "nbformat": 4,
  "nbformat_minor": 0,
  "metadata": {
    "colab": {
      "provenance": [],
      "authorship_tag": "ABX9TyPQyLVMGTifMQMtOvUqH7MD",
      "include_colab_link": true
    },
    "kernelspec": {
      "name": "python3",
      "display_name": "Python 3"
    },
    "language_info": {
      "name": "python"
    }
  },
  "cells": [
    {
      "cell_type": "markdown",
      "metadata": {
        "id": "view-in-github",
        "colab_type": "text"
      },
      "source": [
        "<a href=\"https://colab.research.google.com/github/EdriellySamella/Edrielly-01/blob/main/Untitled6.ipynb\" target=\"_parent\"><img src=\"https://colab.research.google.com/assets/colab-badge.svg\" alt=\"Open In Colab\"/></a>"
      ]
    },
    {
      "cell_type": "code",
      "execution_count": 1,
      "metadata": {
        "colab": {
          "base_uri": "https://localhost:8080/"
        },
        "id": "6I22qi92EJer",
        "outputId": "ff23f704-228e-4cba-ba90-bd9bab63cdc7"
      },
      "outputs": [
        {
          "output_type": "stream",
          "name": "stdout",
          "text": [
            "Disciplina: Algoritmos e Estrutura de Dados\n",
            "Docente: Moises Cirilo de Brito Souto \n",
            "Discentes: Edrielly Samella, Leticia Lorena, Nicole Souza \n",
            "Tema: Modelagem de Distribuição de Água: Desenvolver um algoritmo para otimizar a distribuição de água em uma determinada área urbana, levando em consideração fatores como demanda, pressão e diâmetro das tubulações\n"
          ]
        }
      ],
      "source": [
        " print(\"Disciplina: Algoritmos e Estrutura de Dados\")\n",
        " print(\"Docente: Moises Cirilo de Brito Souto \")\n",
        " print(\"Discentes: Edrielly Samella, Leticia Lorena, Nicole Souza \")\n",
        " print(\"Tema: Modelagem de Distribuição de Água: Desenvolver um algoritmo para otimizar a distribuição de água em uma determinada área urbana, levando em consideração fatores como demanda, pressão e diâmetro das tubulações\")\n",
        "\n",
        "#Selecione qual lagoa hídrica você deseja informações\n",
        "  1= Pium\n",
        "  2= Jiqui\n",
        "  3= Extremoz\n",
        "  4= Boqueirão\n"
      ]
    }
  ]
}