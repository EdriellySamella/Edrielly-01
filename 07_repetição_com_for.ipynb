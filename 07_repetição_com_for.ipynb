{
  "nbformat": 4,
  "nbformat_minor": 0,
  "metadata": {
    "colab": {
      "provenance": [],
      "authorship_tag": "ABX9TyN+jFgLyp+m23q+PuPf32Uc",
      "include_colab_link": true
    },
    "kernelspec": {
      "name": "python3",
      "display_name": "Python 3"
    },
    "language_info": {
      "name": "python"
    }
  },
  "cells": [
    {
      "cell_type": "markdown",
      "metadata": {
        "id": "view-in-github",
        "colab_type": "text"
      },
      "source": [
        "<a href=\"https://colab.research.google.com/github/EdriellySamella/Edrielly-01/blob/main/07_repeti%C3%A7%C3%A3o_com_for.ipynb\" target=\"_parent\"><img src=\"https://colab.research.google.com/assets/colab-badge.svg\" alt=\"Open In Colab\"/></a>"
      ]
    },
    {
      "cell_type": "code",
      "execution_count": 1,
      "metadata": {
        "colab": {
          "base_uri": "https://localhost:8080/"
        },
        "id": "D7140xd2ecrH",
        "outputId": "07a66a3a-19b4-42fa-865a-451f04faff1b"
      },
      "outputs": [
        {
          "output_type": "stream",
          "name": "stdout",
          "text": [
            "1: spam\n",
            "2: eggs\n",
            "3: bacon\n"
          ]
        }
      ],
      "source": [
        "contador = 0\n",
        "for x in ['spam', 'eggs', 'bacon']:\n",
        "  contador +=1\n",
        "  print(f\"{contador}: {x}\")\n"
      ]
    },
    {
      "cell_type": "code",
      "source": [
        "contador = 0\n",
        "for x in ['spam', 'eggs', 'bacon']:\n",
        "  print(f\"{contador}: {x}\")\n",
        "  contador +=1"
      ],
      "metadata": {
        "colab": {
          "base_uri": "https://localhost:8080/"
        },
        "id": "GotFzAldif1h",
        "outputId": "3d92369f-6e44-45b8-fcc6-7067c7340611"
      },
      "execution_count": 2,
      "outputs": [
        {
          "output_type": "stream",
          "name": "stdout",
          "text": [
            "0: spam\n",
            "1: eggs\n",
            "2: bacon\n"
          ]
        }
      ]
    },
    {
      "cell_type": "code",
      "source": [
        "T = [(1,2), (3,4), (5,6)]\n",
        "for (a,b) in T:\n",
        "  print(a,\"e\",b)"
      ],
      "metadata": {
        "colab": {
          "base_uri": "https://localhost:8080/"
        },
        "id": "95IwJNetj2Mp",
        "outputId": "57aacf13-202f-4c5b-acb8-3f2ec7be915a"
      },
      "execution_count": 5,
      "outputs": [
        {
          "output_type": "stream",
          "name": "stdout",
          "text": [
            "1 e 2\n",
            "3 e 4\n",
            "5 e 6\n"
          ]
        }
      ]
    },
    {
      "cell_type": "code",
      "source": [
        "#Dicionário em python\n",
        "D = {'a': 1, 'b': 2, 'c': 3}\n",
        "for chave in D:\n",
        "  print(chave,\"=>\" ,D[chave])"
      ],
      "metadata": {
        "colab": {
          "base_uri": "https://localhost:8080/"
        },
        "id": "nTiRoH1wkluV",
        "outputId": "e0c32d45-6f7f-4215-dbd6-0cd70cdc189c"
      },
      "execution_count": 8,
      "outputs": [
        {
          "output_type": "stream",
          "name": "stdout",
          "text": [
            "a => 1\n",
            "b => 2\n",
            "c => 3\n"
          ]
        }
      ]
    },
    {
      "cell_type": "code",
      "source": [
        "list(range(10))"
      ],
      "metadata": {
        "colab": {
          "base_uri": "https://localhost:8080/"
        },
        "id": "vTbSHsB9mMEE",
        "outputId": "eee3bf24-6d68-4dd7-9057-7bdf57745293"
      },
      "execution_count": 10,
      "outputs": [
        {
          "output_type": "execute_result",
          "data": {
            "text/plain": [
              "[0, 1, 2, 3, 4, 5, 6, 7, 8, 9]"
            ]
          },
          "metadata": {},
          "execution_count": 10
        }
      ]
    },
    {
      "cell_type": "code",
      "source": [
        "for i in range(3):\n",
        "  print(i,\"pythons\")"
      ],
      "metadata": {
        "colab": {
          "base_uri": "https://localhost:8080/"
        },
        "id": "XyAp14mZnFMq",
        "outputId": "777f88ba-35be-44bf-e20e-670431c7d3f8"
      },
      "execution_count": 11,
      "outputs": [
        {
          "output_type": "stream",
          "name": "stdout",
          "text": [
            "0 pythons\n",
            "1 pythons\n",
            "2 pythons\n"
          ]
        }
      ]
    },
    {
      "cell_type": "code",
      "source": [
        "s = 'Edrielly'\n",
        "print(\"Tamanho da palavra:\" , len(s))\n",
        "for i in range(len(s)):\n",
        "  print(i,s[i], sep='-', end=' ')"
      ],
      "metadata": {
        "colab": {
          "base_uri": "https://localhost:8080/"
        },
        "id": "9Aw02sqrnh6C",
        "outputId": "f181e4f8-5b7d-4730-c083-f0a6e2b0a2e8"
      },
      "execution_count": 15,
      "outputs": [
        {
          "output_type": "stream",
          "name": "stdout",
          "text": [
            "Tamanho da palavra: 8\n",
            "0-E 1-d 2-r 3-i 4-e 5-l 6-l 7-y "
          ]
        }
      ]
    },
    {
      "cell_type": "markdown",
      "source": [
        "Uso do zip"
      ],
      "metadata": {
        "id": "G81AY-36qx8U"
      }
    },
    {
      "cell_type": "code",
      "source": [
        "L1 = ['a', 'b', 'c', 'd']\n",
        "L2 = [1,2,3,4]\n",
        "print(list(L1))\n",
        "print(list(L2))\n",
        "compactado = zip(L1,L2)\n",
        "print(list(compactado))\n",
        "print(type(compactado)) #qual o tipo de classe?\n",
        "print(type(list(zip(L1,L2))))\n",
        "for (x,y) in list(zip(L1,L2)):\n",
        "  print(x, \"-\", y)"
      ],
      "metadata": {
        "colab": {
          "base_uri": "https://localhost:8080/"
        },
        "id": "fyiT73Ynq0Db",
        "outputId": "2879a15e-d3cf-497e-8b45-594134fb2403"
      },
      "execution_count": 26,
      "outputs": [
        {
          "output_type": "stream",
          "name": "stdout",
          "text": [
            "['a', 'b', 'c', 'd']\n",
            "[1, 2, 3, 4]\n",
            "[('a', 1), ('b', 2), ('c', 3), ('d', 4)]\n",
            "<class 'zip'>\n",
            "<class 'list'>\n",
            "a - 1\n",
            "b - 2\n",
            "c - 3\n",
            "d - 4\n"
          ]
        }
      ]
    },
    {
      "cell_type": "code",
      "source": [
        "#zip crie um dicionário a partir de listas\n",
        "chaves = ['a','b','c','d']\n",
        "valores = [1,2,3,4]\n",
        "D1 = dict(zip(chaves,valores))\n",
        "print(D1)"
      ],
      "metadata": {
        "colab": {
          "base_uri": "https://localhost:8080/"
        },
        "id": "SFgUcRmot6ze",
        "outputId": "2e409016-33e0-4f8b-831a-4c560292305c"
      },
      "execution_count": 27,
      "outputs": [
        {
          "output_type": "stream",
          "name": "stdout",
          "text": [
            "{'a': 1, 'b': 2, 'c': 3, 'd': 4}\n"
          ]
        }
      ]
    },
    {
      "cell_type": "markdown",
      "source": [
        "Enumerate\n"
      ],
      "metadata": {
        "id": "jkfjYGmSueoG"
      }
    },
    {
      "cell_type": "code",
      "source": [
        "s= 'Edrielly'\n",
        "print(enumerate(s))\n",
        "print(list(enumerate(s)))\n",
        "for (offset,valor) in enumerate(s):\n",
        "  print(offset,valor)"
      ],
      "metadata": {
        "colab": {
          "base_uri": "https://localhost:8080/"
        },
        "id": "UyWrwkrmujuM",
        "outputId": "cdfc3ae1-a38c-4ed9-f85b-60a1b6db05a4"
      },
      "execution_count": 31,
      "outputs": [
        {
          "output_type": "stream",
          "name": "stdout",
          "text": [
            "<enumerate object at 0x79838fdb6500>\n",
            "[(0, 'E'), (1, 'd'), (2, 'r'), (3, 'i'), (4, 'e'), (5, 'l'), (6, 'l'), (7, 'y')]\n",
            "0 E\n",
            "1 d\n",
            "2 r\n",
            "3 i\n",
            "4 e\n",
            "5 l\n",
            "6 l\n",
            "7 y\n"
          ]
        }
      ]
    }
  ]
}