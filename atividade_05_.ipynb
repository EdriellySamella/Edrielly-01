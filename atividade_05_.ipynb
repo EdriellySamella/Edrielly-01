{
  "nbformat": 4,
  "nbformat_minor": 0,
  "metadata": {
    "colab": {
      "provenance": [],
      "authorship_tag": "ABX9TyNdfDNjJcwmUCFFbH9Qw9o/",
      "include_colab_link": true
    },
    "kernelspec": {
      "name": "python3",
      "display_name": "Python 3"
    },
    "language_info": {
      "name": "python"
    }
  },
  "cells": [
    {
      "cell_type": "markdown",
      "metadata": {
        "id": "view-in-github",
        "colab_type": "text"
      },
      "source": [
        "<a href=\"https://colab.research.google.com/github/EdriellySamella/Edrielly-01/blob/main/atividade_05_.ipynb\" target=\"_parent\"><img src=\"https://colab.research.google.com/assets/colab-badge.svg\" alt=\"Open In Colab\"/></a>"
      ]
    },
    {
      "cell_type": "markdown",
      "source": [
        "1. Crie um programa que leia um número inteiro. Quando este for negativo,\n",
        "some-o com 100; quando positivo, apenas faça sua impressão.\n"
      ],
      "metadata": {
        "id": "V1wR7W89Qfv4"
      }
    },
    {
      "cell_type": "code",
      "source": [
        "#leitura de num int\n",
        "var_1 = int(input('Digite um número inteiro:'))\n",
        "if var_1 < 0:\n",
        "    var_1+=100\n",
        "    print(var_1)\n",
        "else:\n",
        "    print(var_1)\n"
      ],
      "metadata": {
        "id": "LSx18i0kQeuf",
        "outputId": "cc5665b1-909c-48bb-ebe0-edc8cad7cb1b",
        "colab": {
          "base_uri": "https://localhost:8080/"
        }
      },
      "execution_count": 9,
      "outputs": [
        {
          "output_type": "stream",
          "name": "stdout",
          "text": [
            "Digite um número inteiro:-6\n",
            "94\n"
          ]
        }
      ]
    },
    {
      "cell_type": "markdown",
      "source": [
        "2. Crie um programa que leia o código de um curso do IFRN, Campus\n",
        "Natal Central, e indique o nome do curso de acordo com a tabela abaixo. Se o\n",
        "programa ler um código inexistente no Instituto, uma mensagem de alerta deve\n",
        "ser informada ao usuário.\n",
        "Código Curso\n",
        "1 Técnico em Informática\n",
        "Subseqüente\n",
        "2 Técnico em Informática EJA\n",
        "3 Técnico em Cooperativismo\n",
        "4 Técnico em Cooperativismo EJA\n",
        "5 Licenciatura em Física"
      ],
      "metadata": {
        "id": "sp6WltXTKCkI"
      }
    },
    {
      "cell_type": "code",
      "source": [
        "var_curso = input('1.Técnico em Informática\\n2.Técnico em Informática EJA\\n3.Técnico em Cooperativismo\\n4.Técnico em Cooperativismo EJA\\n5.Licenciatura em Física\\nDigite o código de curso desejado:')\n",
        "\n",
        "if int(var_curso) == 1:\n",
        "    print('Técnico em Informática')\n",
        "elif int(var_curso) == 2:\n",
        "    print('Técnico em Informática EJA')\n",
        "elif int(var_curso) == 3:\n",
        "    print('Técnico em Cooperativismo')\n",
        "elif int(var_curso) == 4:\n",
        "    print('Técnico em Cooperativismo EJA')\n",
        "elif int(var_curso) == 5:\n",
        "    print('Licenciatura em Física')\n",
        "else:\n",
        "    print('Digite um código de curso válido!')\n"
      ],
      "metadata": {
        "id": "nwFrbqMAKGeE",
        "outputId": "50c895bb-110d-4ac9-b1d1-c958a65e8edd",
        "colab": {
          "base_uri": "https://localhost:8080/"
        }
      },
      "execution_count": null,
      "outputs": [
        {
          "output_type": "stream",
          "name": "stdout",
          "text": [
            "1.Técnico em Informática\n",
            "2.Técnico em Informática EJA\n",
            "3.Técnico em Cooperativismo\n",
            "4.Técnico em Cooperativismo EJA\n",
            "5.Licenciatura em Física\n",
            "Digite o código de curso desejado:2\n",
            "Técnico em Informática EJA\n"
          ]
        }
      ]
    },
    {
      "cell_type": "markdown",
      "source": [
        "3. Leia duas strings e informe o conteúdo delas\n",
        "seguido do seu comprimento.\n",
        "3a. Crie uma variável res1 que informa se as duas\n",
        "strings possuem o mesmo comprimento.\n",
        "Observe o exemplo:\n",
        "● Compara duas strings\n",
        "● string1: Brasil Hexa 2006\n",
        "● string2: Brasil! Hexa 2006!\n",
        "● Tamanho de \"Brasil Hexa 2006\": 16 caracteres\n",
        "● Tamanho de \"Brasil! Hexa 2006!\": 18 caracteres\n"
      ],
      "metadata": {
        "id": "ht-Jy2_sKWr4"
      }
    },
    {
      "cell_type": "code",
      "source": [
        "res1 = 'O Brail vai competir no jogos olimpico de 2024!!'\n",
        "res2 = ' O Brasil ganhará medalha de ouro'\n",
        "if len(res1) == len(res2):\n",
        "    print('As strings são iguais')\n",
        "else:\n",
        "    print('As strings são diferentes')"
      ],
      "metadata": {
        "id": "AXp6zfA3KXkV",
        "outputId": "5cf32b44-6a9a-47f6-f6d1-4e021c75b8d3",
        "colab": {
          "base_uri": "https://localhost:8080/"
        }
      },
      "execution_count": 10,
      "outputs": [
        {
          "output_type": "stream",
          "name": "stdout",
          "text": [
            "As strings são diferentes\n"
          ]
        }
      ]
    },
    {
      "cell_type": "markdown",
      "source": [
        "4. Faça um programa que ler uma string e cortaos dois primeiros caracteres e os dois últimos\n",
        "Exemplo:\n",
        "● B = “0123456789”\n",
        "● Resultado = “234567”"
      ],
      "metadata": {
        "id": "HcNn_cnYPRcv"
      }
    },
    {
      "cell_type": "code",
      "source": [
        "sorteio ='5248967163'\n",
        "print(sorteio)\n",
        "print('resultado =', sorteio[2:-2])"
      ],
      "metadata": {
        "id": "GUXwe7YlPW-P",
        "outputId": "7b34ac49-58d7-4a4f-bdb0-86dc32a0fa41",
        "colab": {
          "base_uri": "https://localhost:8080/"
        }
      },
      "execution_count": 7,
      "outputs": [
        {
          "output_type": "stream",
          "name": "stdout",
          "text": [
            "5248967163\n",
            "resultado = 489671\n"
          ]
        }
      ]
    }
  ]
}