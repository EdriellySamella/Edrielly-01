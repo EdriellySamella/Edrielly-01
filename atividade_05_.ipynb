{
  "nbformat": 4,
  "nbformat_minor": 0,
  "metadata": {
    "colab": {
      "provenance": [],
      "authorship_tag": "ABX9TyP0GP66Eq9e7WyH8lz4L7K2",
      "include_colab_link": true
    },
    "kernelspec": {
      "name": "python3",
      "display_name": "Python 3"
    },
    "language_info": {
      "name": "python"
    }
  },
  "cells": [
    {
      "cell_type": "markdown",
      "metadata": {
        "id": "view-in-github",
        "colab_type": "text"
      },
      "source": [
        "<a href=\"https://colab.research.google.com/github/EdriellySamella/Edrielly-01/blob/main/atividade_05_.ipynb\" target=\"_parent\"><img src=\"https://colab.research.google.com/assets/colab-badge.svg\" alt=\"Open In Colab\"/></a>"
      ]
    },
    {
      "cell_type": "code",
      "execution_count": null,
      "metadata": {
        "colab": {
          "base_uri": "https://localhost:8080/"
        },
        "id": "lGd7FKTaUmce",
        "outputId": "4f681216-3db6-4b9a-9e81-71db123696a4"
      },
      "outputs": [
        {
          "output_type": "stream",
          "name": "stdout",
          "text": [
            "Digite um número inteiro:3\n",
            "3\n",
            "1.Técnico em Informática\n",
            "2.Técnico em Informática EJA\n",
            "3.Técnico em Cooperativismo\n",
            "4.Técnico em Cooperativismo EJA\n",
            "5.Licenciatura em Física\n",
            "Digite o código de curso desejado:2\n",
            "Técnico em Informática EJA\n",
            "Digite uma palavra:hoje\n",
            "Digite outra palavra:tres\n",
            "string1:hoje\n",
            "string2:tres\n",
            "Tamannho de \"hoje\": 4 caracteres\n",
            "Tamannho de \"tres\": 4 caracteres\n",
            "tem o mesmo comprimento\n",
            "Digite uma palavra:nada\n",
            "\n"
          ]
        }
      ],
      "source": [
        "#leitura de num int\n",
        "var_1 = int(input('Digite um número inteiro:'))\n",
        "if var_1 < 0:\n",
        "    var_1+=100\n",
        "    print(var_1)\n",
        "else:\n",
        "    print(var_1)\n",
        "\n",
        "#codigo curso\n",
        "    var_curso = input('1.Técnico em Informática\\n2.Técnico em Informática EJA\\n3.Técnico em Cooperativismo\\n4.Técnico em Cooperativismo EJA\\n5.Licenciatura em Física\\nDigite o código de curso desejado:')\n",
        "\n",
        "if int(var_curso) == 1:\n",
        "    print('Técnico em Informática')\n",
        "elif int(var_curso) == 2:\n",
        "    print('Técnico em Informática EJA')\n",
        "elif int(var_curso) == 3:\n",
        "    print('Técnico em Cooperativismo')\n",
        "elif int(var_curso) == 4:\n",
        "    print('Técnico em Cooperativismo EJA')\n",
        "elif int(var_curso) == 5:\n",
        "    print('Licenciatura em Física')\n",
        "else:\n",
        "    print('Digite um código de curso válido!')\n",
        "\n",
        "#duas strings\n",
        "var_1 = input('Digite uma palavra:')\n",
        "var_2 = input('Digite outra palavra:')\n",
        "res1 = len(var_2)==len(var_1)\n",
        "res2 = var_1 == var_2\n",
        "print(f'string1:{var_1}')\n",
        "print(f'string2:{var_2}')\n",
        "\n",
        "print(f'Tamannho de \"{var_1}\": {len(var_1)} caracteres')\n",
        "\n",
        "print(f'Tamannho de \"{var_2}\": {len(var_2)} caracteres')\n",
        "\n",
        "if res1:\n",
        "    print('tem o mesmo comprimento')\n",
        "if res2:\n",
        "    print('mesmo conteúdo')\n",
        "# res1 =\n",
        "\n",
        "\n",
        "var_1 = input('Digite uma palavra:')\n",
        "print(var_1[2:-2:])"
      ]
    },
    {
      "cell_type": "markdown",
      "source": [
        "1. Crie um programa que leia um número inteiro. Quando este for negativo,\n",
        "some-o com 100; quando positivo, apenas faça sua impressão."
      ],
      "metadata": {
        "id": "dvZ5pztcJcmI"
      }
    },
    {
      "cell_type": "code",
      "source": [
        "var_1 = int(input('Digite um número inteiro:'))\n",
        "sum = (var_1 + 100)\n",
        "if var_1 < 0:\n",
        "  print(sum)\n",
        "\n",
        "else:\n",
        "    print(var_1)"
      ],
      "metadata": {
        "id": "dmQeHONsJfEf",
        "outputId": "fc2b3744-a6cf-4509-f419-e683e300040b",
        "colab": {
          "base_uri": "https://localhost:8080/"
        }
      },
      "execution_count": 2,
      "outputs": [
        {
          "output_type": "stream",
          "name": "stdout",
          "text": [
            "Digite um número inteiro:-3\n",
            "97\n"
          ]
        }
      ]
    },
    {
      "cell_type": "markdown",
      "source": [
        "2. Crie um programa que leia o código de um curso do IFRN, Campus\n",
        "Natal Central, e indique o nome do curso de acordo com a tabela abaixo. Se o\n",
        "programa ler um código inexistente no Instituto, uma mensagem de alerta deve\n",
        "ser informada ao usuário.\n",
        "Código Curso\n",
        "1 Técnico em Informática\n",
        "Subseqüente\n",
        "2 Técnico em Informática EJA\n",
        "3 Técnico em Cooperativismo\n",
        "4 Técnico em Cooperativismo EJA\n",
        "5 Licenciatura em Física"
      ],
      "metadata": {
        "id": "sp6WltXTKCkI"
      }
    },
    {
      "cell_type": "code",
      "source": [
        "var_curso = input('1.Técnico em Informática\\n2.Técnico em Informática EJA\\n3.Técnico em Cooperativismo\\n4.Técnico em Cooperativismo EJA\\n5.Licenciatura em Física\\nDigite o código de curso desejado:')\n",
        "\n",
        "if int(var_curso) == 1:\n",
        "    print('Técnico em Informática')\n",
        "elif int(var_curso) == 2:\n",
        "    print('Técnico em Informática EJA')\n",
        "elif int(var_curso) == 3:\n",
        "    print('Técnico em Cooperativismo')\n",
        "elif int(var_curso) == 4:\n",
        "    print('Técnico em Cooperativismo EJA')\n",
        "elif int(var_curso) == 5:\n",
        "    print('Licenciatura em Física')\n",
        "else:\n",
        "    print('Digite um código de curso válido!')\n"
      ],
      "metadata": {
        "id": "nwFrbqMAKGeE",
        "outputId": "50c895bb-110d-4ac9-b1d1-c958a65e8edd",
        "colab": {
          "base_uri": "https://localhost:8080/"
        }
      },
      "execution_count": 3,
      "outputs": [
        {
          "output_type": "stream",
          "name": "stdout",
          "text": [
            "1.Técnico em Informática\n",
            "2.Técnico em Informática EJA\n",
            "3.Técnico em Cooperativismo\n",
            "4.Técnico em Cooperativismo EJA\n",
            "5.Licenciatura em Física\n",
            "Digite o código de curso desejado:2\n",
            "Técnico em Informática EJA\n"
          ]
        }
      ]
    },
    {
      "cell_type": "markdown",
      "source": [
        "3. Leia duas strings e informe o conteúdo delas\n",
        "seguido do seu comprimento.\n",
        "3a. Crie uma variável res1 que informa se as duas\n",
        "strings possuem o mesmo comprimento.\n",
        "Observe o exemplo:\n",
        "● Compara duas strings\n",
        "● string1: Brasil Hexa 2006\n",
        "● string2: Brasil! Hexa 2006!\n",
        "● Tamanho de \"Brasil Hexa 2006\": 16 caracteres\n",
        "● Tamanho de \"Brasil! Hexa 2006!\": 18 caracteres\n"
      ],
      "metadata": {
        "id": "ht-Jy2_sKWr4"
      }
    },
    {
      "cell_type": "code",
      "source": [],
      "metadata": {
        "id": "AXp6zfA3KXkV"
      },
      "execution_count": null,
      "outputs": []
    }
  ]
}