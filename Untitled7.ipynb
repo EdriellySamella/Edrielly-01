{
  "nbformat": 4,
  "nbformat_minor": 0,
  "metadata": {
    "colab": {
      "provenance": [],
      "authorship_tag": "ABX9TyP7Qu1KbXAksX9kBqUsoyky",
      "include_colab_link": true
    },
    "kernelspec": {
      "name": "python3",
      "display_name": "Python 3"
    },
    "language_info": {
      "name": "python"
    }
  },
  "cells": [
    {
      "cell_type": "markdown",
      "metadata": {
        "id": "view-in-github",
        "colab_type": "text"
      },
      "source": [
        "<a href=\"https://colab.research.google.com/github/EdriellySamella/Edrielly-01/blob/main/Untitled7.ipynb\" target=\"_parent\"><img src=\"https://colab.research.google.com/assets/colab-badge.svg\" alt=\"Open In Colab\"/></a>"
      ]
    },
    {
      "cell_type": "code",
      "execution_count": 40,
      "metadata": {
        "colab": {
          "base_uri": "https://localhost:8080/",
          "height": 106
        },
        "id": "cG8pVDSbPoar",
        "outputId": "e2758f02-b61e-418a-b39b-37e4f818137c"
      },
      "outputs": [
        {
          "output_type": "error",
          "ename": "IndentationError",
          "evalue": "unexpected indent (<ipython-input-40-319b7901f335>, line 19)",
          "traceback": [
            "\u001b[0;36m  File \u001b[0;32m\"<ipython-input-40-319b7901f335>\"\u001b[0;36m, line \u001b[0;32m19\u001b[0m\n\u001b[0;31m    quadras_alturas = {\u001b[0m\n\u001b[0m    ^\u001b[0m\n\u001b[0;31mIndentationError\u001b[0m\u001b[0;31m:\u001b[0m unexpected indent\n"
          ]
        }
      ],
      "source": [
        "# Solicita ao usuário que digite seu nome\n",
        "nome = input(\"Por favor, digite o seu nome: \")\n",
        "\n",
        "# Imprime uma mensagem de boas-vindas com o nome fornecido\n",
        "print(\"Olá,\", nome + \"! Bem-vindo!\")\n",
        "\n",
        "\n",
        "def verificar_quadra(opcao):\n",
        "    if opcao == \"1\":\n",
        "        print(\"A quadra referida é a primeira.\")\n",
        "    elif opcao == \"2\":\n",
        "        print(\"A quadra referida é a segunda.\")\n",
        "    elif opcao == \"3\":\n",
        "        print(\"A quadra referida é a terceira.\")\n",
        "    else:\n",
        "        print(\"Opção inválida.\")\n",
        "opcao = input(\"Digite a opção de quadra (1, 2 ou 3): \")\n",
        "# Define o dicionário que associa cada quadra com sua altura\n",
        "  quadras_alturas = {\n",
        "    \"1\": \"baixa\",\n",
        "    \"2\": \"média\",\n",
        "    \"3\": \"alta\"\n",
        "}\n",
        "\n",
        "# Solicita ao usuário que digite o número da quadra\n",
        "numero_quadra = input(\"Digite o número da quadra (1, 2 ou 3): \")\n",
        "\n",
        "# Verifica se o número da quadra está no dicionário\n",
        "if numero_quadra in quadras_alturas:\n",
        "    # Obtém a altura correspondente ao número da quadra\n",
        "    altura_quadra = quadras_alturas[numero_quadra]\n",
        "    # Imprime a altura correspondente\n",
        "    print(\"A quadra\", numero_quadra, \"é\", altura_quadra)\n",
        "else:\n",
        "    print(\"Número de quadra inválido. Por favor, digite 1, 2 ou 3.\")\n",
        "\n",
        "verificar_quadra(opcao)\n",
        "def selecionar_bomba(altura_quadra):\n",
        "    if altura_quadra == \"alta\":\n",
        "        print(\"Será preciso a bomba de alta pressão.\")\n",
        "    elif altura_quadra == \"média\":\n",
        "        print(\"Será preciso a bomba de média pressão.\")\n",
        "    elif altura_quadra == \"baixa\":\n",
        "        print(\"Será preciso a bomba de baixa pressão.\")\n",
        "    else:\n",
        "        print(\"Altura inválida.\")\n",
        "\n",
        "altura_quadra = input(\"Digite a altura da quadra (alta, média ou baixa): \")\n",
        "selecionar_bomba(altura_quadra)\n",
        "\n",
        "\n"
      ]
    },
    {
      "cell_type": "code",
      "source": [],
      "metadata": {
        "id": "zReZjgf0dc-o"
      },
      "execution_count": null,
      "outputs": []
    }
  ]
}