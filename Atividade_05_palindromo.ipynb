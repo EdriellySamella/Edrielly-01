{
  "nbformat": 4,
  "nbformat_minor": 0,
  "metadata": {
    "colab": {
      "provenance": [],
      "authorship_tag": "ABX9TyML3N+Edi5Z5hqxyz3enHp6",
      "include_colab_link": true
    },
    "kernelspec": {
      "name": "python3",
      "display_name": "Python 3"
    },
    "language_info": {
      "name": "python"
    }
  },
  "cells": [
    {
      "cell_type": "markdown",
      "metadata": {
        "id": "view-in-github",
        "colab_type": "text"
      },
      "source": [
        "<a href=\"https://colab.research.google.com/github/EdriellySamella/Edrielly-01/blob/main/Atividade_05_palindromo.ipynb\" target=\"_parent\"><img src=\"https://colab.research.google.com/assets/colab-badge.svg\" alt=\"Open In Colab\"/></a>"
      ]
    },
    {
      "cell_type": "code",
      "execution_count": null,
      "metadata": {
        "colab": {
          "base_uri": "https://localhost:8080/"
        },
        "id": "-5yToOTfmJn3",
        "outputId": "2617c48b-37d4-400b-ea3e-7b43e32b587a"
      },
      "outputs": [
        {
          "output_type": "stream",
          "name": "stdout",
          "text": [
            "True\n",
            "False\n"
          ]
        }
      ],
      "source": [
        "def e_palindromo(s):\n",
        "    # Remove espaços e converte a string para minúsculas\n",
        "    s = s.replace(\" \", \"\").lower()\n",
        "\n",
        "    # Remove caracteres não alfanuméricos, se desejado\n",
        "    s = ''.join(c for c in s if c.isalnum())\n",
        "\n",
        "    # Verifica se a string é igual ao seu reverso\n",
        "    return s == s[::-1]\n",
        "\n",
        "# Exemplos de uso\n",
        "print(e_palindromo(\"ANA\"))  # Deve retornar True\n",
        "print(e_palindromo(\"Olá, Mundo\"))  # Deve retornar False"
      ]
    }
  ]
}