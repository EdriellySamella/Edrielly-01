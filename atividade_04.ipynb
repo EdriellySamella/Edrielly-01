{
  "nbformat": 4,
  "nbformat_minor": 0,
  "metadata": {
    "colab": {
      "provenance": [],
      "authorship_tag": "ABX9TyMpuAgzX8Yn1U6gjlqa8Q7S",
      "include_colab_link": true
    },
    "kernelspec": {
      "name": "python3",
      "display_name": "Python 3"
    },
    "language_info": {
      "name": "python"
    }
  },
  "cells": [
    {
      "cell_type": "markdown",
      "metadata": {
        "id": "view-in-github",
        "colab_type": "text"
      },
      "source": [
        "<a href=\"https://colab.research.google.com/github/EdriellySamella/Edrielly-01/blob/main/atividade_04.ipynb\" target=\"_parent\"><img src=\"https://colab.research.google.com/assets/colab-badge.svg\" alt=\"Open In Colab\"/></a>"
      ]
    },
    {
      "cell_type": "markdown",
      "source": [
        "1.\n",
        "Escreva um programa que imprima \"Olá, Mundo!\" na tela.\n"
      ],
      "metadata": {
        "id": "iNkH006SR7lj"
      }
    },
    {
      "cell_type": "code",
      "source": [
        "print (\"Olá, Mundo\")"
      ],
      "metadata": {
        "colab": {
          "base_uri": "https://localhost:8080/"
        },
        "id": "KLQ6z1mQR8MR",
        "outputId": "ffa36280-c3d0-49b1-879f-066d110a1c55"
      },
      "execution_count": 2,
      "outputs": [
        {
          "output_type": "stream",
          "name": "stdout",
          "text": [
            "Olá, Mundo\n"
          ]
        }
      ]
    },
    {
      "cell_type": "markdown",
      "source": [
        "2.\n",
        "Crie um programa que leia três notas de um aluno e calcule a média final.\n"
      ],
      "metadata": {
        "id": "-BMhBFYeSJNn"
      }
    },
    {
      "cell_type": "code",
      "source": [
        "print(\"Calculadora de média dos alunos\")\n",
        "#Float, tipagem explícita, para garantir número fracionário\n",
        "n1 = float( input(\"Digite a nota 1: \") )\n",
        "n2 = float( input(\"Digite a nota 2: \") )\n",
        "n3 = float( input(\"Digite a nota 3: \") )\n",
        "#calculo de media ponderada\n",
        "media = (n1 * 2 + n2 * 3 + n3 * 3) / 3\n",
        ""
      ],
      "metadata": {
        "colab": {
          "base_uri": "https://localhost:8080/"
        },
        "id": "2PEOISpiSLlI",
        "outputId": "da820301-506c-42a9-cc60-d7a62e831a58"
      },
      "execution_count": 8,
      "outputs": [
        {
          "name": "stdout",
          "output_type": "stream",
          "text": [
            "Calculadora de média dos alunos\n",
            "Digite a nota 1: 5\n",
            "Digite a nota 2: 4\n",
            "Digite a nota 3: 4\n"
          ]
        }
      ]
    },
    {
      "cell_type": "markdown",
      "source": [
        "3.\n",
        "Escreva um programa que calcule a média de notas, permitindo a entrada repetida de notas até que o usuário indique que não deseja mais inserir.\n"
      ],
      "metadata": {
        "id": "5NAzM8ckTXAN"
      }
    },
    {
      "cell_type": "code",
      "source": [
        "#impressão da média\n",
        "print(f\"A média ponderada das notas é: {media:.2f}\")\n",
        "\n",
        "#impressão da média\n",
        "print(f\"A média ponderada das notas é: {media:.3f}\")\n",
        "\n",
        "#impressão da média sem formatação\n",
        "print(\"A média ponderada das notas é: \", media)"
      ],
      "metadata": {
        "colab": {
          "base_uri": "https://localhost:8080/"
        },
        "id": "GU2nRxJzTaxc",
        "outputId": "146241ab-1f9d-40d8-ade9-d2f173be82f8"
      },
      "execution_count": 9,
      "outputs": [
        {
          "output_type": "stream",
          "name": "stdout",
          "text": [
            "A média ponderada das notas é: 11.33\n",
            "A média ponderada das notas é: 11.333\n",
            "A média ponderada das notas é:  11.333333333333334\n"
          ]
        }
      ]
    },
    {
      "cell_type": "markdown",
      "source": [
        "4.\n",
        "Crie um programa que leia três números e determine o maior deles."
      ],
      "metadata": {
        "id": "U8A43sLfTnDZ"
      }
    },
    {
      "cell_type": "code",
      "source": [
        "#Determine o maior número\n",
        "a= 18\n",
        "b= 90\n",
        "c= 60\n",
        "\n",
        "print(max(a,b,c))"
      ],
      "metadata": {
        "colab": {
          "base_uri": "https://localhost:8080/"
        },
        "id": "Cr8u3daBTn-A",
        "outputId": "ec82daa3-9a87-4f6e-8462-ac936b9ee522"
      },
      "execution_count": 10,
      "outputs": [
        {
          "output_type": "stream",
          "name": "stdout",
          "text": [
            "90\n"
          ]
        }
      ]
    },
    {
      "cell_type": "markdown",
      "source": [
        "5.\n",
        "Desenvolva um programa que monitore a qualidade da água de um reservatório usando um loop while.\n"
      ],
      "metadata": {
        "id": "k7K07Mi5UGOJ"
      }
    },
    {
      "cell_type": "code",
      "source": [
        "#Programa de controle de qualidade de água\n",
        "print(\"Insira o nível de cloro da água para verificar se está dentro do padrão aceito\")\n",
        "\n",
        "while True: #Loop infinito // infinete Loop\n",
        " nivel_cloro = float(input(\"Digite o nível de cloro em mg/L: \"))\n",
        " #verificando se o 0.2 > nível_cloro < 2\n",
        " if nivel_cloro < 2.0:\n",
        "  print(\"Atenção: O nível de cloro está abaixo do padrão aceitável\")\n",
        " elif nivel_cloro > 2.0:\n",
        "   print(\"Atenção: O nível de cloro está acima do padrão aceitável\")\n",
        " else:\n",
        "  print(\"O nível do cloro está dentro dos padrões aceitáveis.\")\n",
        "  break"
      ],
      "metadata": {
        "id": "Z1IbUK-EUIpo"
      },
      "execution_count": null,
      "outputs": []
    },
    {
      "cell_type": "markdown",
      "source": [
        "6.\n",
        "Implemente um programa que utilize um loop while para calcular a soma dos números de 1 a 100.\n"
      ],
      "metadata": {
        "id": "YNGrixXMUL7Z"
      }
    },
    {
      "cell_type": "code",
      "source": [
        "numero = 1\n",
        "soma = 0\n",
        "\n",
        "while numero <= 100:\n",
        "  soma += numero #Adicionar o número atual à soma\n",
        "  numero += 1 #Incrementa o número para a próxima interação\n",
        "\n",
        "  print(f\"A soma dos números de 1 a 100 é: {soma}\")"
      ],
      "metadata": {
        "id": "QGNgECzdUObN"
      },
      "execution_count": null,
      "outputs": []
    },
    {
      "cell_type": "markdown",
      "source": [
        "7.\n",
        "Escreva um programa que imprima todos os números ímpares de 1 a 50 usando um loop for."
      ],
      "metadata": {
        "id": "s6_q1D3eUSkU"
      }
    },
    {
      "cell_type": "code",
      "source": [
        "print(\"Números ímpares de 1 a 50:\")\n",
        "for numero in range(1, 51):\n",
        "  if numero % 2 != 0:\n",
        "    print(numero)"
      ],
      "metadata": {
        "colab": {
          "base_uri": "https://localhost:8080/"
        },
        "id": "DttJAiMvUU6U",
        "outputId": "d27bcd91-4e25-480d-cb57-68320ad0b2bd"
      },
      "execution_count": 11,
      "outputs": [
        {
          "output_type": "stream",
          "name": "stdout",
          "text": [
            "Números ímpares de 1 a 50:\n",
            "1\n",
            "3\n",
            "5\n",
            "7\n",
            "9\n",
            "11\n",
            "13\n",
            "15\n",
            "17\n",
            "19\n",
            "21\n",
            "23\n",
            "25\n",
            "27\n",
            "29\n",
            "31\n",
            "33\n",
            "35\n",
            "37\n",
            "39\n",
            "41\n",
            "43\n",
            "45\n",
            "47\n",
            "49\n"
          ]
        }
      ]
    },
    {
      "cell_type": "markdown",
      "source": [
        "8.\n",
        "Desenvolva um programa que utilize os objetos built-in do Python para realizar operações com listas e dicionários."
      ],
      "metadata": {
        "id": "ZKrzPAOmUZC0"
      }
    },
    {
      "cell_type": "code",
      "source": [
        "#Lista de números\n",
        "numeros = [10,40,50,100]\n",
        "\n",
        "numeros.append(80)\n",
        "\n",
        "print(\"Elementos da lista\")\n",
        "for numero in numeros:\n",
        "  print(numero)\n",
        "  print(\"Máximo da lista:\", max(numeros))"
      ],
      "metadata": {
        "id": "h_Tc6oG1Ubol"
      },
      "execution_count": null,
      "outputs": []
    }
  ]
}