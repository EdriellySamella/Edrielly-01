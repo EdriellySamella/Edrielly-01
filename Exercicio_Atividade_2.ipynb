{
  "nbformat": 4,
  "nbformat_minor": 0,
  "metadata": {
    "colab": {
      "provenance": [],
      "authorship_tag": "ABX9TyNhx59kWovZN8xFrYS5yKcC",
      "include_colab_link": true
    },
    "kernelspec": {
      "name": "python3",
      "display_name": "Python 3"
    },
    "language_info": {
      "name": "python"
    }
  },
  "cells": [
    {
      "cell_type": "markdown",
      "metadata": {
        "id": "view-in-github",
        "colab_type": "text"
      },
      "source": [
        "<a href=\"https://colab.research.google.com/github/EdriellySamella/Edrielly-01/blob/main/Exercicio_Atividade_2.ipynb\" target=\"_parent\"><img src=\"https://colab.research.google.com/assets/colab-badge.svg\" alt=\"Open In Colab\"/></a>"
      ]
    },
    {
      "cell_type": "code",
      "execution_count": null,
      "metadata": {
        "id": "gIl5nc6WZXnX"
      },
      "outputs": [],
      "source": []
    },
    {
      "cell_type": "markdown",
      "source": [
        "Respostas atividade 2"
      ],
      "metadata": {
        "id": "gQu6DTBraEHO"
      }
    },
    {
      "cell_type": "code",
      "source": [
        "\n",
        "print(\"Calculadora de média ponderada do IFRN\")\n",
        "#Float, tipagem explícita, para garantir número fracionário\n",
        "n1 = float( input(\"Digite a nota 1(com peso 2): \") )\n",
        "n2 = float( input(\"Digite a nota 2(com peso 3): \") )\n",
        "\n",
        "#calculo de media ponderada\n",
        "media = (n1 * 2 + n2 * 3) / 5\n",
        "\n",
        "#impressão da média\n",
        "print(f\"A média ponderada das notas é: {media:.2f}\")\n",
        "#apresentar se o aluno foi aprovado ou não\n",
        "if media >= 6:\n",
        "  print(\"aprovado\")\n",
        "else:\n",
        "  if n1 >= 4 and n2 >=4:\n",
        "    print(\"Prova final\")\n",
        "  else:\n",
        "    print(\"Reprovado\")"
      ],
      "metadata": {
        "colab": {
          "base_uri": "https://localhost:8080/"
        },
        "id": "BOGtrCXIaHpl",
        "outputId": "6d9fb498-32f4-4a4b-fe3c-9bc9028c8896"
      },
      "execution_count": 8,
      "outputs": [
        {
          "output_type": "stream",
          "name": "stdout",
          "text": [
            "Calculadora de média ponderada do IFRN\n",
            "Digite a nota 1(com peso 2): 7.0\n",
            "Digite a nota 2(com peso 3): 6.0\n",
            "A média ponderada das notas é: 6.40\n",
            "aprovado\n"
          ]
        }
      ]
    }
  ]
}