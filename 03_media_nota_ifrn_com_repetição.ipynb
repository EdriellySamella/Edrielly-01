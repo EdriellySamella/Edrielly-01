{
  "nbformat": 4,
  "nbformat_minor": 0,
  "metadata": {
    "colab": {
      "provenance": [],
      "authorship_tag": "ABX9TyP4dFCEZhaDSLzmfSZh1k8P",
      "include_colab_link": true
    },
    "kernelspec": {
      "name": "python3",
      "display_name": "Python 3"
    },
    "language_info": {
      "name": "python"
    }
  },
  "cells": [
    {
      "cell_type": "markdown",
      "metadata": {
        "id": "view-in-github",
        "colab_type": "text"
      },
      "source": [
        "<a href=\"https://colab.research.google.com/github/EdriellySamella/Edrielly-01/blob/main/03_media_nota_ifrn_com_repeti%C3%A7%C3%A3o.ipynb\" target=\"_parent\"><img src=\"https://colab.research.google.com/assets/colab-badge.svg\" alt=\"Open In Colab\"/></a>"
      ]
    },
    {
      "cell_type": "code",
      "execution_count": null,
      "metadata": {
        "colab": {
          "base_uri": "https://localhost:8080/"
        },
        "id": "751W99QHhccI",
        "outputId": "f7201753-46fe-44a7-8a6b-4ccc016b53c6"
      },
      "outputs": [
        {
          "output_type": "stream",
          "name": "stdout",
          "text": [
            "Calculadora de média ponderada do IFRN\n"
          ]
        }
      ],
      "source": [
        "print(\"Calculadora de média ponderada do IFRN\")\n",
        "\n",
        "#Perguntando, para quantos alunos, desejo calcular média\n",
        "num_alunos = int(input(\"digite a quantidade de alunos:\"))\n",
        "\n",
        "for aluno in range (1, num_alunos+1):\n",
        "   #Float, tipagem explícita, para garantir número fracionário\n",
        "    n1 = float( input(\"Digite a nota 1(com peso 2): \") )\n",
        "    n2 = float( input(\"Digite a nota 2(com peso 3): \") )\n",
        "\n",
        "    #imprima o numero do aluno da vez\n",
        "    print(f\"\\nAluno: {aluno}:\")\n",
        "\n",
        "\n",
        "   #Float, tipagem explícita, para garantir número fracionário\n",
        "    n1 = float( input(\"Digite a nota 1(com peso 2): \") )\n",
        "    n2 = float( input(\"Digite a nota 2(com peso 3): \") )\n",
        "\n",
        "   #calculo de media ponderada\n",
        "    media = (n1 * 2 + n2 * 3) / 5\n",
        "\n",
        "   #impressão da média\n",
        "    print(f\"A média ponderada das notas é: {media:.2f}\")\n",
        "    #apresentar se o aluno foi aprovado ou não\n",
        "    if media >= 6:\n",
        "      print(\"aprovado\")\n",
        "    else:\n",
        "      if n1 >= 4 and n2 >=4:\n",
        "        print(\"Prova final\")\n",
        "      else:\n",
        "        print(\"Reprovado\")"
      ]
    },
    {
      "cell_type": "markdown",
      "source": [],
      "metadata": {
        "id": "BJgmnDI5huuB"
      }
    }
  ]
}