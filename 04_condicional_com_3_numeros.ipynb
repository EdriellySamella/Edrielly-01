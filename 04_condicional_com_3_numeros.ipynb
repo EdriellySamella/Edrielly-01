{
  "nbformat": 4,
  "nbformat_minor": 0,
  "metadata": {
    "colab": {
      "provenance": [],
      "authorship_tag": "ABX9TyNR0lQohb0CCwystploy7/e",
      "include_colab_link": true
    },
    "kernelspec": {
      "name": "python3",
      "display_name": "Python 3"
    },
    "language_info": {
      "name": "python"
    }
  },
  "cells": [
    {
      "cell_type": "markdown",
      "metadata": {
        "id": "view-in-github",
        "colab_type": "text"
      },
      "source": [
        "<a href=\"https://colab.research.google.com/github/EdriellySamella/Edrielly-01/blob/main/04_condicional_com_3_numeros.ipynb\" target=\"_parent\"><img src=\"https://colab.research.google.com/assets/colab-badge.svg\" alt=\"Open In Colab\"/></a>"
      ]
    },
    {
      "cell_type": "code",
      "execution_count": 10,
      "metadata": {
        "colab": {
          "base_uri": "https://localhost:8080/"
        },
        "id": "MyhRK2j_u8pj",
        "outputId": "af7c95c1-1561-44fd-cafe-47052df31bab"
      },
      "outputs": [
        {
          "output_type": "stream",
          "name": "stdout",
          "text": [
            "30\n",
            "50\n"
          ]
        }
      ],
      "source": [
        "#Crie um codigo que, a partir de 3 variaveis\n",
        "#'a', 'b' e 'c' númericas imprima a maior delas\n",
        "a=10\n",
        "b=20\n",
        "c=30\n",
        "\n",
        "if a < b:\n",
        "  if b < c:\n",
        "    print(c)\n",
        "  else:\n",
        "    print(b)\n",
        "else:\n",
        "  if a < c:\n",
        "    print(c)\n",
        "  else:\n",
        "    print(a)\n",
        "\n",
        "#Simplificando com funções do python\n",
        "a=10\n",
        "b=20\n",
        "c=30\n",
        "d=40\n",
        "e=50\n",
        "\n",
        "print(max(a,b,c,d,e))\n"
      ]
    }
  ]
}